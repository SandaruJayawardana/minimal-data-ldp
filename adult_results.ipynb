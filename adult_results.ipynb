{
 "cells": [
  {
   "cell_type": "code",
   "execution_count": 31,
   "metadata": {},
   "outputs": [],
   "source": [
    "import numpy as np\n",
    "import importlib.util\n",
    "import matplotlib.pyplot as plt\n",
    "import seaborn as sns\n",
    "from repetitive_optimizer import *\n",
    "from optimized_random_response import *\n",
    "import pandas as pd\n",
    "from dataset_handler import *\n",
    "import seaborn as sns\n",
    "\n",
    "import warnings\n",
    "\n",
    "warnings.filterwarnings(\"ignore\")"
   ]
  },
  {
   "cell_type": "code",
   "execution_count": 32,
   "metadata": {},
   "outputs": [
    {
     "name": "stdout",
     "output_type": "stream",
     "text": [
      "   age  workclass  fnlwgt     education  educational-num      marital-status  \\\n",
      "0   25    Private  226802          11th                7       Never-married   \n",
      "1   38    Private   89814       HS-grad                9  Married-civ-spouse   \n",
      "2   28  Local-gov  336951    Assoc-acdm               12  Married-civ-spouse   \n",
      "3   44    Private  160323  Some-college               10  Married-civ-spouse   \n",
      "4   18          ?  103497  Some-college               10       Never-married   \n",
      "\n",
      "          occupation relationship   race  gender  capital-gain  capital-loss  \\\n",
      "0  Machine-op-inspct    Own-child  Black    Male             0             0   \n",
      "1    Farming-fishing      Husband  White    Male             0             0   \n",
      "2    Protective-serv      Husband  White    Male             0             0   \n",
      "3  Machine-op-inspct      Husband  Black    Male          7688             0   \n",
      "4                  ?    Own-child  White  Female             0             0   \n",
      "\n",
      "   hours-per-week native-country income  \n",
      "0              40  United-States  <=50K  \n",
      "1              50  United-States  <=50K  \n",
      "2              40  United-States   >50K  \n",
      "3              40  United-States   >50K  \n",
      "4              30  United-States  <=50K  \n"
     ]
    }
   ],
   "source": [
    "MI_THRESHOLD = 0.1\n",
    "\n",
    "LABEL_ENCODED_ATTRIBUTES = [\"workclass\", \"marital-status\", \"occupation\", \"relationship\", \"race\", \"gender\", \"native-country\", \"income\", \"age_group\"]\n",
    "SKIP_ATTRIBUTES = [\"fnlwgt\", \"capital-gain\", \"capital-loss\"]\n",
    "file_path = \"/Users/sandarujayawardana/Documents/Python_code/adult/adult.csv\"\n",
    "\n",
    "# Read the CSV file\n",
    "adult_data = pd.read_csv(file_path)\n",
    "\n",
    "print(adult_data.head())\n"
   ]
  },
  {
   "cell_type": "code",
   "execution_count": 33,
   "metadata": {},
   "outputs": [
    {
     "data": {
      "text/html": [
       "<div>\n",
       "<style scoped>\n",
       "    .dataframe tbody tr th:only-of-type {\n",
       "        vertical-align: middle;\n",
       "    }\n",
       "\n",
       "    .dataframe tbody tr th {\n",
       "        vertical-align: top;\n",
       "    }\n",
       "\n",
       "    .dataframe thead th {\n",
       "        text-align: right;\n",
       "    }\n",
       "</style>\n",
       "<table border=\"1\" class=\"dataframe\">\n",
       "  <thead>\n",
       "    <tr style=\"text-align: right;\">\n",
       "      <th></th>\n",
       "      <th>workclass</th>\n",
       "      <th>educational-num</th>\n",
       "      <th>marital-status</th>\n",
       "      <th>occupation</th>\n",
       "      <th>relationship</th>\n",
       "      <th>race</th>\n",
       "      <th>gender</th>\n",
       "      <th>hours-per-week</th>\n",
       "      <th>native-country</th>\n",
       "      <th>income</th>\n",
       "      <th>age_group</th>\n",
       "    </tr>\n",
       "  </thead>\n",
       "  <tbody>\n",
       "    <tr>\n",
       "      <th>0</th>\n",
       "      <td>Private</td>\n",
       "      <td>7</td>\n",
       "      <td>Never-married</td>\n",
       "      <td>Machine-op-inspct</td>\n",
       "      <td>Own-child</td>\n",
       "      <td>Black</td>\n",
       "      <td>Male</td>\n",
       "      <td>40</td>\n",
       "      <td>United-States</td>\n",
       "      <td>&lt;=50K</td>\n",
       "      <td>20-29</td>\n",
       "    </tr>\n",
       "    <tr>\n",
       "      <th>1</th>\n",
       "      <td>Private</td>\n",
       "      <td>9</td>\n",
       "      <td>Married-civ-spouse</td>\n",
       "      <td>Farming-fishing</td>\n",
       "      <td>Husband</td>\n",
       "      <td>White</td>\n",
       "      <td>Male</td>\n",
       "      <td>50</td>\n",
       "      <td>United-States</td>\n",
       "      <td>&lt;=50K</td>\n",
       "      <td>30-39</td>\n",
       "    </tr>\n",
       "    <tr>\n",
       "      <th>2</th>\n",
       "      <td>Local-gov</td>\n",
       "      <td>12</td>\n",
       "      <td>Married-civ-spouse</td>\n",
       "      <td>Protective-serv</td>\n",
       "      <td>Husband</td>\n",
       "      <td>White</td>\n",
       "      <td>Male</td>\n",
       "      <td>40</td>\n",
       "      <td>United-States</td>\n",
       "      <td>&gt;50K</td>\n",
       "      <td>20-29</td>\n",
       "    </tr>\n",
       "    <tr>\n",
       "      <th>3</th>\n",
       "      <td>Private</td>\n",
       "      <td>10</td>\n",
       "      <td>Married-civ-spouse</td>\n",
       "      <td>Machine-op-inspct</td>\n",
       "      <td>Husband</td>\n",
       "      <td>Black</td>\n",
       "      <td>Male</td>\n",
       "      <td>40</td>\n",
       "      <td>United-States</td>\n",
       "      <td>&gt;50K</td>\n",
       "      <td>40-49</td>\n",
       "    </tr>\n",
       "    <tr>\n",
       "      <th>5</th>\n",
       "      <td>Private</td>\n",
       "      <td>6</td>\n",
       "      <td>Never-married</td>\n",
       "      <td>Other-service</td>\n",
       "      <td>Not-in-family</td>\n",
       "      <td>White</td>\n",
       "      <td>Male</td>\n",
       "      <td>30</td>\n",
       "      <td>United-States</td>\n",
       "      <td>&lt;=50K</td>\n",
       "      <td>30-39</td>\n",
       "    </tr>\n",
       "  </tbody>\n",
       "</table>\n",
       "</div>"
      ],
      "text/plain": [
       "   workclass  educational-num      marital-status         occupation  \\\n",
       "0    Private                7       Never-married  Machine-op-inspct   \n",
       "1    Private                9  Married-civ-spouse    Farming-fishing   \n",
       "2  Local-gov               12  Married-civ-spouse    Protective-serv   \n",
       "3    Private               10  Married-civ-spouse  Machine-op-inspct   \n",
       "5    Private                6       Never-married      Other-service   \n",
       "\n",
       "    relationship   race gender  hours-per-week native-country income age_group  \n",
       "0      Own-child  Black   Male              40  United-States  <=50K     20-29  \n",
       "1        Husband  White   Male              50  United-States  <=50K     30-39  \n",
       "2        Husband  White   Male              40  United-States   >50K     20-29  \n",
       "3        Husband  Black   Male              40  United-States   >50K     40-49  \n",
       "5  Not-in-family  White   Male              30  United-States  <=50K     30-39  "
      ]
     },
     "execution_count": 33,
     "metadata": {},
     "output_type": "execute_result"
    }
   ],
   "source": [
    "\n",
    "\n",
    "# Remove rows with NaN values\n",
    "adult_data.dropna(inplace=True)\n",
    "\n",
    "# Remove rows with '?' entries (assuming '?' is a string)\n",
    "adult_data = adult_data.replace('?', pd.NA).dropna()\n",
    "\n",
    "# Remove the \"fnlwgt\", \"capital-gain\", \"capital-loss\" columns\n",
    "\n",
    "\n",
    "# Define a function to categorize age into 10 year groups\n",
    "def categorize_age(age):\n",
    "    return f\"{(age // 10) * 10}-{(age // 10) * 10 + 9}\"\n",
    "\n",
    "# Apply the function to create a new column for age group\n",
    "adult_data['age_group'] = adult_data['age'].apply(categorize_age)\n",
    "\n",
    "adult_data.drop(['fnlwgt', 'capital-gain', 'capital-loss', 'education', 'age'], axis=1, inplace=True)\n",
    "\n",
    "# Display the first few rows of the modified DataFrame\n",
    "adult_data.head()\n"
   ]
  },
  {
   "cell_type": "code",
   "execution_count": 34,
   "metadata": {},
   "outputs": [],
   "source": [
    "# Create dataset dictionary\n",
    "\n",
    "data_dict = {}\n",
    "\n",
    "for attr in adult_data.columns.tolist():\n",
    "    \n",
    "    data_dict[attr] = adult_data[attr].to_numpy()"
   ]
  },
  {
   "cell_type": "code",
   "execution_count": 35,
   "metadata": {},
   "outputs": [
    {
     "data": {
      "text/plain": [
       "{'workclass': array(['Private', 'Private', 'Local-gov', ..., 'Private', 'Private',\n",
       "        'Self-emp-inc'], dtype=object),\n",
       " 'educational-num': array([ 7,  9, 12, ...,  9,  9,  9]),\n",
       " 'marital-status': array(['Never-married', 'Married-civ-spouse', 'Married-civ-spouse', ...,\n",
       "        'Widowed', 'Never-married', 'Married-civ-spouse'], dtype=object),\n",
       " 'occupation': array(['Machine-op-inspct', 'Farming-fishing', 'Protective-serv', ...,\n",
       "        'Adm-clerical', 'Adm-clerical', 'Exec-managerial'], dtype=object),\n",
       " 'relationship': array(['Own-child', 'Husband', 'Husband', ..., 'Unmarried', 'Own-child',\n",
       "        'Wife'], dtype=object),\n",
       " 'race': array(['Black', 'White', 'White', ..., 'White', 'White', 'White'],\n",
       "       dtype=object),\n",
       " 'gender': array(['Male', 'Male', 'Male', ..., 'Female', 'Male', 'Female'],\n",
       "       dtype=object),\n",
       " 'hours-per-week': array([40, 50, 40, ..., 40, 20, 40]),\n",
       " 'native-country': array(['United-States', 'United-States', 'United-States', ...,\n",
       "        'United-States', 'United-States', 'United-States'], dtype=object),\n",
       " 'income': array(['<=50K', '<=50K', '>50K', ..., '<=50K', '<=50K', '>50K'],\n",
       "       dtype=object),\n",
       " 'age_group': array(['20-29', '30-39', '20-29', ..., '50-59', '20-29', '50-59'],\n",
       "       dtype=object)}"
      ]
     },
     "execution_count": 35,
     "metadata": {},
     "output_type": "execute_result"
    }
   ],
   "source": [
    "data_dict"
   ]
  },
  {
   "cell_type": "code",
   "execution_count": 36,
   "metadata": {},
   "outputs": [
    {
     "name": "stdout",
     "output_type": "stream",
     "text": [
      "new_attributes ['workclass', 'educational-num', 'marital-status', 'occupation', 'relationship', 'race', 'gender', 'hours-per-week', 'native-country', 'income', 'age_group']\n"
     ]
    },
    {
     "data": {
      "text/plain": [
       "45222"
      ]
     },
     "execution_count": 36,
     "metadata": {},
     "output_type": "execute_result"
    }
   ],
   "source": [
    "dataset_handler = Dataset_handler(data_dict=data_dict, encodable_attributes = LABEL_ENCODED_ATTRIBUTES)\n",
    "len(dataset_handler.get_encoded_orignal_dataset()[\"native-country\"])"
   ]
  },
  {
   "cell_type": "code",
   "execution_count": null,
   "metadata": {},
   "outputs": [],
   "source": []
  },
  {
   "cell_type": "markdown",
   "metadata": {},
   "source": [
    "## Group correlated attributes"
   ]
  },
  {
   "cell_type": "code",
   "execution_count": 37,
   "metadata": {},
   "outputs": [
    {
     "data": {
      "text/plain": [
       "'age_group'"
      ]
     },
     "execution_count": 37,
     "metadata": {},
     "output_type": "execute_result"
    }
   ],
   "source": [
    "dataset_handler.get_attribute_list()[10]"
   ]
  },
  {
   "cell_type": "code",
   "execution_count": 39,
   "metadata": {},
   "outputs": [
    {
     "data": {
      "image/png": "[encoded data removed]",
      "text/plain": [
       "<Figure size 640x480 with 2 Axes>"
      ]
     },
     "metadata": {},
     "output_type": "display_data"
    }
   ],
   "source": [
    "from simpleinfotheory import mutualinformationempirical\n",
    "\n",
    "num_attributes = len(dataset_handler.get_attribute_list())\n",
    "mi_pair_wise = np.zeros((num_attributes, num_attributes))\n",
    "\n",
    "for index_i, i in enumerate(dataset_handler.get_attribute_list()[:]):\n",
    "    for index_j, j in enumerate(dataset_handler.get_attribute_list()[:]):\n",
    "        if i == j:\n",
    "            continue\n",
    "        # print(index_i, index_j)\n",
    "        # print(np.shape(dataset_handler.get_encoded_orignal_dataset()[i]))\n",
    "        # print(dataset_handler.get_encoded_orignal_dataset()[i])\n",
    "        mi_pair_wise[index_i][index_j] = mutualinformationempirical(dataset_handler.get_encoded_orignal_dataset()[i], dataset_handler.get_encoded_orignal_dataset()[j])[0]\n",
    "sns.heatmap(mi_pair_wise, vmax=0.5, vmin=0)\n",
    "plt.show()"
   ]
  },
  {
   "cell_type": "code",
   "execution_count": 41,
   "metadata": {},
   "outputs": [
    {
     "name": "stdout",
     "output_type": "stream",
     "text": [
      "0 workclass\n",
      "1 educational-num\n",
      "2 marital-status\n",
      "3 occupation\n",
      "4 relationship\n",
      "5 race\n",
      "6 gender\n",
      "7 hours-per-week\n",
      "8 native-country\n",
      "9 income\n",
      "10 age_group\n"
     ]
    }
   ],
   "source": [
    "for i, value in enumerate(dataset_handler.get_attribute_list()):\n",
    "    print(i, value) "
   ]
  },
  {
   "cell_type": "code",
   "execution_count": 63,
   "metadata": {},
   "outputs": [
    {
     "name": "stdout",
     "output_type": "stream",
     "text": [
      "selected_values [] remaining_alphabet [[1, 2, 3], [4, 5], [5, 6, 7, 8, 9]]\n",
      "selected_values [1] remaining_alphabet [[4, 5], [5, 6, 7, 8, 9]]\n",
      "selected_values [1, 4] remaining_alphabet [[5, 6, 7, 8, 9]]\n",
      "Leaf [[5, 6, 7, 8, 9]]\n",
      "created_values  [[1, 4, 5], [1, 4, 6], [1, 4, 7], [1, 4, 8], [1, 4, 9]]\n",
      "selected_values [1, 5] remaining_alphabet [[5, 6, 7, 8, 9]]\n",
      "Leaf [[5, 6, 7, 8, 9]]\n",
      "created_values  [[1, 5, 5], [1, 5, 6], [1, 5, 7], [1, 5, 8], [1, 5, 9]]\n",
      "selected_values [2] remaining_alphabet [[4, 5], [5, 6, 7, 8, 9]]\n",
      "selected_values [2, 4] remaining_alphabet [[5, 6, 7, 8, 9]]\n",
      "Leaf [[5, 6, 7, 8, 9]]\n",
      "created_values  [[2, 4, 5], [2, 4, 6], [2, 4, 7], [2, 4, 8], [2, 4, 9]]\n",
      "selected_values [2, 5] remaining_alphabet [[5, 6, 7, 8, 9]]\n",
      "Leaf [[5, 6, 7, 8, 9]]\n",
      "created_values  [[2, 5, 5], [2, 5, 6], [2, 5, 7], [2, 5, 8], [2, 5, 9]]\n",
      "selected_values [3] remaining_alphabet [[4, 5], [5, 6, 7, 8, 9]]\n",
      "selected_values [3, 4] remaining_alphabet [[5, 6, 7, 8, 9]]\n",
      "Leaf [[5, 6, 7, 8, 9]]\n",
      "created_values  [[3, 4, 5], [3, 4, 6], [3, 4, 7], [3, 4, 8], [3, 4, 9]]\n",
      "selected_values [3, 5] remaining_alphabet [[5, 6, 7, 8, 9]]\n",
      "Leaf [[5, 6, 7, 8, 9]]\n",
      "created_values  [[3, 5, 5], [3, 5, 6], [3, 5, 7], [3, 5, 8], [3, 5, 9]]\n",
      "[[1, 4, 5], [1, 4, 6], [1, 4, 7], [1, 4, 8], [1, 4, 9], [1, 5, 5], [1, 5, 6], [1, 5, 7], [1, 5, 8], [1, 5, 9], [2, 4, 5], [2, 4, 6], [2, 4, 7], [2, 4, 8], [2, 4, 9], [2, 5, 5], [2, 5, 6], [2, 5, 7], [2, 5, 8], [2, 5, 9], [3, 4, 5], [3, 4, 6], [3, 4, 7], [3, 4, 8], [3, 4, 9], [3, 5, 5], [3, 5, 6], [3, 5, 7], [3, 5, 8], [3, 5, 9]]\n"
     ]
    }
   ],
   "source": []
  }
 ],
 "metadata": {
  "kernelspec": {
   "display_name": ".venv",
   "language": "python",
   "name": "python3"
  },
  "language_info": {
   "codemirror_mode": {
    "name": "ipython",
    "version": 3
   },
   "file_extension": ".py",
   "mimetype": "text/x-python",
   "name": "python",
   "nbconvert_exporter": "python",
   "pygments_lexer": "ipython3",
   "version": "3.11.4"
  }
 },
 "nbformat": 4,
 "nbformat_minor": 2
}
