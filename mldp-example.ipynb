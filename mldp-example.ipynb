{
 "cells": [
  {
   "cell_type": "markdown",
   "metadata": {},
   "source": [
    "## Setup the required libraries"
   ]
  },
  {
   "cell_type": "code",
   "execution_count": 2,
   "metadata": {},
   "outputs": [
    {
     "name": "stdout",
     "output_type": "stream",
     "text": [
      "fatal: destination path 'minimal-data-ldp' already exists and is not an empty directory.\n"
     ]
    }
   ],
   "source": [
    "import matplotlib.pyplot as plt\n",
    "import numpy as np\n",
    "import os\n",
    "import random\n",
    "import seaborn as sns\n",
    "\n",
    "!git clone https://github.com/SandaruJayawardana/minimal-data-ldp.git\n",
    "\n",
    "path = os.getcwd()\n",
    "os.chdir(path + \"/minimal-data-ldp\")"
   ]
  },
  {
   "cell_type": "code",
   "execution_count": 3,
   "metadata": {},
   "outputs": [],
   "source": [
    "from utils.empirical_data import *\n",
    "from utils.optimized_random_response import *\n",
    "from utils.randomized_response import *\n",
    "from utils.repetitive_optimizer import *\n",
    "from utils.synthetic_dataset import *\n",
    "from utils.exponential_mechanism import *\n",
    "from utils.simpleinfotheory import *\n",
    "from utils.normalize_error_matrix import *\n",
    "from utils.rappor_mechanism import *"
   ]
  },
  {
   "cell_type": "markdown",
   "metadata": {},
   "source": [
    "## Create Synthetic dataset"
   ]
  },
  {
   "cell_type": "code",
   "execution_count": null,
   "metadata": {},
   "outputs": [],
   "source": [
    "from utils.alphabet import *\n",
    "\n",
    "NUM_ATTRIBUTES = 2\n",
    "NUM_STATES = [3, 3]\n",
    "DATASET_SIZE = 50000\n",
    "\n",
    "priority_dict = {} # {'0': 2, '1': 0.5}\n",
    "\n",
    "TOTAL_STATES = 1\n",
    "alphabet_dict = {}\n",
    "for i in range(NUM_ATTRIBUTES):\n",
    "    TOTAL_STATES *= NUM_STATES[i]\n",
    "    alphabet_dict[str(i)] = np.arange(NUM_STATES[i])\n",
    "\n",
    "ALL_ALPHABET = create_alphabet(attributes_with_alphabet=alphabet_dict)\n",
    "STRING_ALL_ALPHABET = convert_alphabet_to_string(ALL_ALPHABET)\n",
    "ATTRIBUTE_LIST = list(alphabet_dict.keys())\n",
    "\n",
    "mi = 0\n",
    "max_mi = 0\n",
    "while mi < 1:\n",
    "    # random_dist = np.array([random.randint(1, 500000)*random.randint(1, 500000)*random.randint(1, 500000) for i in range(TOTAL_STATES)]) # np.ones(TOTAL_STATES) #\n",
    "    random_dist = np.array([0.3, 0.01, 0.01, 0.01, 0.30, 0.01, 0.01, 0.01, 0.34])\n",
    "    random_dist = random_dist/np.sum(random_dist)\n",
    "    \n",
    "    p = (np.reshape(random_dist, (NUM_STATES[0], NUM_STATES[1])))\n",
    "    mi = mutualinformation(p)\n",
    "    if mi > max_mi:\n",
    "        max_mi = mi\n",
    "        print(mi)\n",
    "    \n",
    "synthetic_dataset_constructor = Gen_Synthetic_Dataset(no_of_states = TOTAL_STATES, no_of_samples = DATASET_SIZE, alphabet=STRING_ALL_ALPHABET)\n",
    "correlated_synthetic_dataset = synthetic_dataset_constructor.gen_custom(distribution=random_dist)\n",
    "print(random_dist)\n",
    "print(correlated_synthetic_dataset)"
   ]
  }
 ],
 "metadata": {
  "kernelspec": {
   "display_name": ".venv",
   "language": "python",
   "name": "python3"
  },
  "language_info": {
   "codemirror_mode": {
    "name": "ipython",
    "version": 3
   },
   "file_extension": ".py",
   "mimetype": "text/x-python",
   "name": "python",
   "nbconvert_exporter": "python",
   "pygments_lexer": "ipython3",
   "version": "3.9.6"
  }
 },
 "nbformat": 4,
 "nbformat_minor": 2
}
